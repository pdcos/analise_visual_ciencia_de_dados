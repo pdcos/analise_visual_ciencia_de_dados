{
 "cells": [
  {
   "cell_type": "code",
   "execution_count": 30,
   "metadata": {},
   "outputs": [],
   "source": [
    "import pandas as pd\n",
    "import requests\n",
    "import io\n"
   ]
  },
  {
   "cell_type": "markdown",
   "metadata": {},
   "source": [
    "# Ex. 1)\n",
    "- Baixe o arquivo de dados CSV ageatmar disponível no repositório de datasets do R. Importe os dados num objeto da classe tibble em R ou da classe DataFrame em Python. Valide os dados importados verificando as variáveis (colunas) e as observações (linhas) importadas. Utilize a função summarize() no R ou describe() no Python para obter uma visão geral e resumida dos dados importados. Verifique a distribuição dos dados com uso de um histograma e gráfico de dispersão. Examine o histograma gerado e identifique um padrão ou característica notável, como distribuição de dados e outliers."
   ]
  },
  {
   "cell_type": "code",
   "execution_count": 31,
   "metadata": {},
   "outputs": [
    {
     "data": {
      "text/html": [
       "<div>\n",
       "<style scoped>\n",
       "    .dataframe tbody tr th:only-of-type {\n",
       "        vertical-align: middle;\n",
       "    }\n",
       "\n",
       "    .dataframe tbody tr th {\n",
       "        vertical-align: top;\n",
       "    }\n",
       "\n",
       "    .dataframe thead th {\n",
       "        text-align: right;\n",
       "    }\n",
       "</style>\n",
       "<table border=\"1\" class=\"dataframe\">\n",
       "  <thead>\n",
       "    <tr style=\"text-align: right;\">\n",
       "      <th></th>\n",
       "      <th>age</th>\n",
       "    </tr>\n",
       "    <tr>\n",
       "      <th>rownames</th>\n",
       "      <th></th>\n",
       "    </tr>\n",
       "  </thead>\n",
       "  <tbody>\n",
       "    <tr>\n",
       "      <th>1</th>\n",
       "      <td>32</td>\n",
       "    </tr>\n",
       "    <tr>\n",
       "      <th>2</th>\n",
       "      <td>25</td>\n",
       "    </tr>\n",
       "    <tr>\n",
       "      <th>3</th>\n",
       "      <td>24</td>\n",
       "    </tr>\n",
       "    <tr>\n",
       "      <th>4</th>\n",
       "      <td>26</td>\n",
       "    </tr>\n",
       "    <tr>\n",
       "      <th>5</th>\n",
       "      <td>32</td>\n",
       "    </tr>\n",
       "  </tbody>\n",
       "</table>\n",
       "</div>"
      ],
      "text/plain": [
       "          age\n",
       "rownames     \n",
       "1          32\n",
       "2          25\n",
       "3          24\n",
       "4          26\n",
       "5          32"
      ]
     },
     "metadata": {},
     "output_type": "display_data"
    }
   ],
   "source": [
    "path = \"https://vincentarelbundock.github.io/Rdatasets/csv/openintro/age_at_mar.csv\"\n",
    "\n",
    "df_age = pd.read_csv(path, index_col=0)\n",
    "display(df_age.head())\n"
   ]
  },
  {
   "cell_type": "code",
   "execution_count": 32,
   "metadata": {},
   "outputs": [
    {
     "data": {
      "text/html": [
       "<div>\n",
       "<style scoped>\n",
       "    .dataframe tbody tr th:only-of-type {\n",
       "        vertical-align: middle;\n",
       "    }\n",
       "\n",
       "    .dataframe tbody tr th {\n",
       "        vertical-align: top;\n",
       "    }\n",
       "\n",
       "    .dataframe thead th {\n",
       "        text-align: right;\n",
       "    }\n",
       "</style>\n",
       "<table border=\"1\" class=\"dataframe\">\n",
       "  <thead>\n",
       "    <tr style=\"text-align: right;\">\n",
       "      <th></th>\n",
       "      <th>age</th>\n",
       "    </tr>\n",
       "  </thead>\n",
       "  <tbody>\n",
       "    <tr>\n",
       "      <th>count</th>\n",
       "      <td>5534.000000</td>\n",
       "    </tr>\n",
       "    <tr>\n",
       "      <th>mean</th>\n",
       "      <td>23.440188</td>\n",
       "    </tr>\n",
       "    <tr>\n",
       "      <th>std</th>\n",
       "      <td>4.721365</td>\n",
       "    </tr>\n",
       "    <tr>\n",
       "      <th>min</th>\n",
       "      <td>10.000000</td>\n",
       "    </tr>\n",
       "    <tr>\n",
       "      <th>25%</th>\n",
       "      <td>20.000000</td>\n",
       "    </tr>\n",
       "    <tr>\n",
       "      <th>50%</th>\n",
       "      <td>23.000000</td>\n",
       "    </tr>\n",
       "    <tr>\n",
       "      <th>75%</th>\n",
       "      <td>26.000000</td>\n",
       "    </tr>\n",
       "    <tr>\n",
       "      <th>max</th>\n",
       "      <td>43.000000</td>\n",
       "    </tr>\n",
       "  </tbody>\n",
       "</table>\n",
       "</div>"
      ],
      "text/plain": [
       "               age\n",
       "count  5534.000000\n",
       "mean     23.440188\n",
       "std       4.721365\n",
       "min      10.000000\n",
       "25%      20.000000\n",
       "50%      23.000000\n",
       "75%      26.000000\n",
       "max      43.000000"
      ]
     },
     "execution_count": 32,
     "metadata": {},
     "output_type": "execute_result"
    }
   ],
   "source": [
    "df_age.describe()"
   ]
  },
  {
   "cell_type": "code",
   "execution_count": 33,
   "metadata": {},
   "outputs": [
    {
     "data": {
      "text/plain": [
       "<Axes: >"
      ]
     },
     "execution_count": 33,
     "metadata": {},
     "output_type": "execute_result"
    },
    {
     "data": {
      "image/png": "[encoded data removed]",
      "text/plain": [
       "<Figure size 640x480 with 1 Axes>"
      ]
     },
     "metadata": {},
     "output_type": "display_data"
    }
   ],
   "source": [
    "df_age.boxplot(column='age')"
   ]
  },
  {
   "cell_type": "code",
   "execution_count": 34,
   "metadata": {},
   "outputs": [
    {
     "data": {
      "text/plain": [
       "array([[<Axes: title={'center': 'age'}>]], dtype=object)"
      ]
     },
     "execution_count": 34,
     "metadata": {},
     "output_type": "execute_result"
    },
    {
     "data": {
      "image/png": "[encoded data removed]",
      "text/plain": [
       "<Figure size 640x480 with 1 Axes>"
      ]
     },
     "metadata": {},
     "output_type": "display_data"
    }
   ],
   "source": [
    "df_age.hist(column='age', bins=33, range=(10, 43))"
   ]
  },
  {
   "cell_type": "markdown",
   "metadata": {},
   "source": [
    "**Comentários**\n",
    "\n",
    "\n",
    "Weibull ou Log-Normal\n",
    "\n",
    "---"
   ]
  },
  {
   "cell_type": "markdown",
   "metadata": {},
   "source": [
    "# Ex. 2)\n",
    "\n",
    "- Acesse o Portal de Dados Abertos do TSE. Selecione qualquer um arquivo CSV da categoria ”Resultados”. Baixe e descompacte o arquivo. Dentro do arquivo ZIP baixado, localize o arquivo leiame-x.pdf. Abra o leiame-x.pdf para identificar o encoding dos dados e os nomes das variáveis presentes no arquivo CSV. Importe os dados, usando essas informações, num objeto da classe tibble em R ou da classe DataFrame em Python. Valide os dados importados verificando as variáveis (colunas) e as observações (linhas) importadas. Utilize a função summarize() no R ou describe() no Python para obter uma visão geral e resumida dos dados importados (Fonte)."
   ]
  },
  {
   "cell_type": "code",
   "execution_count": 37,
   "metadata": {},
   "outputs": [],
   "source": [
    "path = \"https://cdn.tse.jus.br/estatistica/sead/eleicoes/eleicoes2022/correspesp/CESP_2t_AC_291020221210.zip\"\n",
    "response = requests.get(path)\n",
    "\n",
    "# Passa a resposta para um objeto do tipo BytesIO\n",
    "zip_file = io.BytesIO(response.content)\n",
    "\n",
    "# Extrai o conteúdo do arquivo zip\n",
    "import zipfile\n",
    "with zipfile.ZipFile(zip_file, 'r') as zip_ref:\n",
    "    zip_ref.extractall('./extracted')\n",
    "    \n"
   ]
  },
  {
   "cell_type": "markdown",
   "metadata": {},
   "source": [
    "O arquivo escolhido foi ccont_2t_AC-291020221210.csv. O arquivo leia-me correspondene é leiame-corresp-esperada-contingencia.pdf, segundo o qual o encoding do .csv é \"Latin 1\" e as variáveis presentes são:\n",
    "\n",
    "- DT_GERACAO\n",
    "- HH_GERACAO\n",
    "- CD_PLEITO\n",
    "- SG_UF\n",
    "- CD_MUNICIPIO\n",
    "- NM_MUNICIPIO\n",
    "- NR_ZONA\n",
    "- NR_URNA_ESPERADA\n",
    "- CD_CARGA_URNA_ESPERADA\n",
    "- CD_FLASHCARD_URNA_ESPERADA\n",
    "- DT_CARGA_URNA_ESPERADA\n",
    "- DT_CARGA_URNA_ESPERADA"
   ]
  },
  {
   "cell_type": "code",
   "execution_count": 41,
   "metadata": {},
   "outputs": [
    {
     "data": {
      "text/html": [
       "<div>\n",
       "<style scoped>\n",
       "    .dataframe tbody tr th:only-of-type {\n",
       "        vertical-align: middle;\n",
       "    }\n",
       "\n",
       "    .dataframe tbody tr th {\n",
       "        vertical-align: top;\n",
       "    }\n",
       "\n",
       "    .dataframe thead th {\n",
       "        text-align: right;\n",
       "    }\n",
       "</style>\n",
       "<table border=\"1\" class=\"dataframe\">\n",
       "  <thead>\n",
       "    <tr style=\"text-align: right;\">\n",
       "      <th></th>\n",
       "      <th>DT_GERACAO</th>\n",
       "      <th>HH_GERACAO</th>\n",
       "      <th>CD_PLEITO</th>\n",
       "      <th>SG_UF</th>\n",
       "      <th>CD_MUNICIPIO</th>\n",
       "      <th>NM_MUNICIPIO</th>\n",
       "      <th>NR_ZONA</th>\n",
       "      <th>NR_URNA_ESPERADA</th>\n",
       "      <th>CD_CARGA_URNA_ESPERADA</th>\n",
       "      <th>CD_FLASHCARD_URNA_ESPERADA</th>\n",
       "      <th>DT_CARGA_URNA_ESPERADA</th>\n",
       "      <th>ST_CORRESP_ALTERADA</th>\n",
       "    </tr>\n",
       "  </thead>\n",
       "  <tbody>\n",
       "    <tr>\n",
       "      <th>0</th>\n",
       "      <td>29/10/2022</td>\n",
       "      <td>12:10:04</td>\n",
       "      <td>407</td>\n",
       "      <td>AC</td>\n",
       "      <td>1120</td>\n",
       "      <td>ACRELÂNDIA</td>\n",
       "      <td>8</td>\n",
       "      <td>1101632</td>\n",
       "      <td>165404163437130713256575</td>\n",
       "      <td>1DD6178A</td>\n",
       "      <td>22/09/2022 13:26:00</td>\n",
       "      <td>*</td>\n",
       "    </tr>\n",
       "    <tr>\n",
       "      <th>1</th>\n",
       "      <td>29/10/2022</td>\n",
       "      <td>12:10:04</td>\n",
       "      <td>407</td>\n",
       "      <td>AC</td>\n",
       "      <td>1120</td>\n",
       "      <td>ACRELÂNDIA</td>\n",
       "      <td>8</td>\n",
       "      <td>1101090</td>\n",
       "      <td>13989012547866195897669</td>\n",
       "      <td>15F7E34D</td>\n",
       "      <td>22/09/2022 13:33:00</td>\n",
       "      <td>*</td>\n",
       "    </tr>\n",
       "    <tr>\n",
       "      <th>2</th>\n",
       "      <td>29/10/2022</td>\n",
       "      <td>12:10:04</td>\n",
       "      <td>407</td>\n",
       "      <td>AC</td>\n",
       "      <td>1120</td>\n",
       "      <td>ACRELÂNDIA</td>\n",
       "      <td>8</td>\n",
       "      <td>1102647</td>\n",
       "      <td>619949614482833439150880</td>\n",
       "      <td>1DD6178A</td>\n",
       "      <td>22/09/2022 14:28:00</td>\n",
       "      <td>*</td>\n",
       "    </tr>\n",
       "    <tr>\n",
       "      <th>3</th>\n",
       "      <td>29/10/2022</td>\n",
       "      <td>12:10:04</td>\n",
       "      <td>407</td>\n",
       "      <td>AC</td>\n",
       "      <td>1120</td>\n",
       "      <td>ACRELÂNDIA</td>\n",
       "      <td>8</td>\n",
       "      <td>1015087</td>\n",
       "      <td>721060728818833878710264</td>\n",
       "      <td>15F7E34D</td>\n",
       "      <td>22/09/2022 14:09:00</td>\n",
       "      <td>*</td>\n",
       "    </tr>\n",
       "    <tr>\n",
       "      <th>4</th>\n",
       "      <td>29/10/2022</td>\n",
       "      <td>12:10:04</td>\n",
       "      <td>407</td>\n",
       "      <td>AC</td>\n",
       "      <td>1120</td>\n",
       "      <td>ACRELÂNDIA</td>\n",
       "      <td>8</td>\n",
       "      <td>1106252</td>\n",
       "      <td>569444561377674188648658</td>\n",
       "      <td>1DD6178A</td>\n",
       "      <td>22/09/2022 14:09:00</td>\n",
       "      <td>*</td>\n",
       "    </tr>\n",
       "  </tbody>\n",
       "</table>\n",
       "</div>"
      ],
      "text/plain": [
       "   DT_GERACAO HH_GERACAO  CD_PLEITO SG_UF  CD_MUNICIPIO NM_MUNICIPIO  NR_ZONA  \\\n",
       "0  29/10/2022   12:10:04        407    AC          1120   ACRELÂNDIA        8   \n",
       "1  29/10/2022   12:10:04        407    AC          1120   ACRELÂNDIA        8   \n",
       "2  29/10/2022   12:10:04        407    AC          1120   ACRELÂNDIA        8   \n",
       "3  29/10/2022   12:10:04        407    AC          1120   ACRELÂNDIA        8   \n",
       "4  29/10/2022   12:10:04        407    AC          1120   ACRELÂNDIA        8   \n",
       "\n",
       "   NR_URNA_ESPERADA    CD_CARGA_URNA_ESPERADA CD_FLASHCARD_URNA_ESPERADA  \\\n",
       "0           1101632  165404163437130713256575                   1DD6178A   \n",
       "1           1101090   13989012547866195897669                   15F7E34D   \n",
       "2           1102647  619949614482833439150880                   1DD6178A   \n",
       "3           1015087  721060728818833878710264                   15F7E34D   \n",
       "4           1106252  569444561377674188648658                   1DD6178A   \n",
       "\n",
       "  DT_CARGA_URNA_ESPERADA ST_CORRESP_ALTERADA  \n",
       "0    22/09/2022 13:26:00                   *  \n",
       "1    22/09/2022 13:33:00                   *  \n",
       "2    22/09/2022 14:28:00                   *  \n",
       "3    22/09/2022 14:09:00                   *  \n",
       "4    22/09/2022 14:09:00                   *  "
      ]
     },
     "metadata": {},
     "output_type": "display_data"
    }
   ],
   "source": [
    "path = \"./extracted/ccont_2t_AC_291020221210.csv\"\n",
    "df_tse = pd.read_csv(path, sep=';', encoding='latin1')\n",
    "display(df_tse.head())"
   ]
  },
  {
   "cell_type": "code",
   "execution_count": 43,
   "metadata": {},
   "outputs": [
    {
     "data": {
      "text/html": [
       "<div>\n",
       "<style scoped>\n",
       "    .dataframe tbody tr th:only-of-type {\n",
       "        vertical-align: middle;\n",
       "    }\n",
       "\n",
       "    .dataframe tbody tr th {\n",
       "        vertical-align: top;\n",
       "    }\n",
       "\n",
       "    .dataframe thead th {\n",
       "        text-align: right;\n",
       "    }\n",
       "</style>\n",
       "<table border=\"1\" class=\"dataframe\">\n",
       "  <thead>\n",
       "    <tr style=\"text-align: right;\">\n",
       "      <th></th>\n",
       "      <th>CD_PLEITO</th>\n",
       "      <th>CD_MUNICIPIO</th>\n",
       "      <th>NR_ZONA</th>\n",
       "      <th>NR_URNA_ESPERADA</th>\n",
       "    </tr>\n",
       "  </thead>\n",
       "  <tbody>\n",
       "    <tr>\n",
       "      <th>count</th>\n",
       "      <td>725.0</td>\n",
       "      <td>725.000000</td>\n",
       "      <td>725.000000</td>\n",
       "      <td>7.250000e+02</td>\n",
       "    </tr>\n",
       "    <tr>\n",
       "      <th>mean</th>\n",
       "      <td>407.0</td>\n",
       "      <td>1259.393103</td>\n",
       "      <td>4.834483</td>\n",
       "      <td>1.600724e+06</td>\n",
       "    </tr>\n",
       "    <tr>\n",
       "      <th>std</th>\n",
       "      <td>0.0</td>\n",
       "      <td>186.036617</td>\n",
       "      <td>2.902213</td>\n",
       "      <td>3.900661e+05</td>\n",
       "    </tr>\n",
       "    <tr>\n",
       "      <th>min</th>\n",
       "      <td>407.0</td>\n",
       "      <td>1007.000000</td>\n",
       "      <td>1.000000</td>\n",
       "      <td>1.004227e+06</td>\n",
       "    </tr>\n",
       "    <tr>\n",
       "      <th>25%</th>\n",
       "      <td>407.0</td>\n",
       "      <td>1074.000000</td>\n",
       "      <td>2.000000</td>\n",
       "      <td>1.225391e+06</td>\n",
       "    </tr>\n",
       "    <tr>\n",
       "      <th>50%</th>\n",
       "      <td>407.0</td>\n",
       "      <td>1392.000000</td>\n",
       "      <td>4.000000</td>\n",
       "      <td>1.662987e+06</td>\n",
       "    </tr>\n",
       "    <tr>\n",
       "      <th>75%</th>\n",
       "      <td>407.0</td>\n",
       "      <td>1392.000000</td>\n",
       "      <td>8.000000</td>\n",
       "      <td>2.045019e+06</td>\n",
       "    </tr>\n",
       "    <tr>\n",
       "      <th>max</th>\n",
       "      <td>407.0</td>\n",
       "      <td>1570.000000</td>\n",
       "      <td>9.000000</td>\n",
       "      <td>2.048290e+06</td>\n",
       "    </tr>\n",
       "  </tbody>\n",
       "</table>\n",
       "</div>"
      ],
      "text/plain": [
       "       CD_PLEITO  CD_MUNICIPIO     NR_ZONA  NR_URNA_ESPERADA\n",
       "count      725.0    725.000000  725.000000      7.250000e+02\n",
       "mean       407.0   1259.393103    4.834483      1.600724e+06\n",
       "std          0.0    186.036617    2.902213      3.900661e+05\n",
       "min        407.0   1007.000000    1.000000      1.004227e+06\n",
       "25%        407.0   1074.000000    2.000000      1.225391e+06\n",
       "50%        407.0   1392.000000    4.000000      1.662987e+06\n",
       "75%        407.0   1392.000000    8.000000      2.045019e+06\n",
       "max        407.0   1570.000000    9.000000      2.048290e+06"
      ]
     },
     "execution_count": 43,
     "metadata": {},
     "output_type": "execute_result"
    }
   ],
   "source": [
    "df_tse.describe()"
   ]
  },
  {
   "cell_type": "markdown",
   "metadata": {},
   "source": [
    "# Ex. 3)\n",
    "- Faça os itens 1–5 da Seção 23.5 da referência [56]."
   ]
  },
  {
   "cell_type": "code",
   "execution_count": null,
   "metadata": {},
   "outputs": [],
   "source": []
  }
 ],
 "metadata": {
  "kernelspec": {
   "display_name": "deeplearning",
   "language": "python",
   "name": "python3"
  },
  "language_info": {
   "codemirror_mode": {
    "name": "ipython",
    "version": 3
   },
   "file_extension": ".py",
   "mimetype": "text/x-python",
   "name": "python",
   "nbconvert_exporter": "python",
   "pygments_lexer": "ipython3",
   "version": "3.9.18"
  }
 },
 "nbformat": 4,
 "nbformat_minor": 2
}
